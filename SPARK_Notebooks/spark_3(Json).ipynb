{
 "cells": [
  {
   "cell_type": "code",
   "execution_count": 0,
   "metadata": {
    "application/vnd.databricks.v1+cell": {
     "cellMetadata": {
      "byteLimit": 2048000,
      "rowLimit": 10000
     },
     "inputWidgets": {},
     "nuid": "3fbd99ef-b9bc-4d61-a817-4c227bedb886",
     "showTitle": false,
     "tableResultSettingsMap": {},
     "title": ""
    }
   },
   "outputs": [],
   "source": [
    "# These are the questions that can be asked\n",
    "\n",
    "'''\n",
    "1) What if you have 3 key value pair data and one data has 4 key value pair what happens\n",
    "2) what is multiple and line delimited json and which one works faster\n",
    "3) how to convert nested data in spark dataframe   (Very Important full explaination in other spark folders last cell block explaination)\n",
    "4) what will happend if i have corrupt json file\n",
    "\n",
    "line delimited json:\n",
    "{.........},\n",
    "{.........},\n",
    "{.........}\n",
    "\n",
    "multiline:\n",
    "[\n",
    "    {\n",
    "        ...,\n",
    "        ...,\n",
    "        ...\n",
    "    },\n",
    "    {\n",
    "        ...,\n",
    "        ...,\n",
    "        ...\n",
    "    }\n",
    "]\n",
    "'''"
   ]
  },
  {
   "cell_type": "code",
   "execution_count": 0,
   "metadata": {
    "application/vnd.databricks.v1+cell": {
     "cellMetadata": {
      "byteLimit": 2048000,
      "rowLimit": 10000
     },
     "inputWidgets": {},
     "nuid": "69c9dd4b-be26-41ee-8663-e3b43276b510",
     "showTitle": false,
     "tableResultSettingsMap": {},
     "title": ""
    }
   },
   "outputs": [],
   "source": [
    "'''\n",
    "By default json read data in line delimited format so if we want to use multiline json or load multiline json there is a process\n",
    "\n",
    "multiline takes more time to process but used in industry 5th box i have shown how multiline to read\n",
    "'''"
   ]
  },
  {
   "cell_type": "code",
   "execution_count": 0,
   "metadata": {
    "application/vnd.databricks.v1+cell": {
     "cellMetadata": {
      "byteLimit": 2048000,
      "rowLimit": 10000
     },
     "inputWidgets": {},
     "nuid": "b9d50f70-29cc-43f9-9fe0-ddea2dad0125",
     "showTitle": false,
     "tableResultSettingsMap": {},
     "title": ""
    }
   },
   "outputs": [
    {
     "output_type": "stream",
     "name": "stdout",
     "output_type": "stream",
     "text": [
      "+---+--------+------+\n|age|    name|salary|\n+---+--------+------+\n| 20|  Manish| 20000|\n| 25|  Nikita| 21000|\n| 16|  Pritam| 22000|\n| 35|Prantosh| 25000|\n| 67|  Vikash| 40000|\n+---+--------+------+\n\n"
     ]
    }
   ],
   "source": [
    "# How to read json \n",
    "\n",
    "df_json = spark.read.format(\"json\")\\\n",
    "                    .option(\"inferschema\",\"true\")\\\n",
    "                    .option(\"mode\",\"PERMISSIVE\")\\\n",
    "                    .load(\"/FileStore/tables/json_data.txt\")\n",
    "\n",
    "df_json.show()"
   ]
  },
  {
   "cell_type": "code",
   "execution_count": 0,
   "metadata": {
    "application/vnd.databricks.v1+cell": {
     "cellMetadata": {
      "byteLimit": 2048000,
      "rowLimit": 10000
     },
     "inputWidgets": {},
     "nuid": "0c3666e6-3f44-4301-8a16-b65c8d409ac5",
     "showTitle": false,
     "tableResultSettingsMap": {},
     "title": ""
    }
   },
   "outputs": [
    {
     "output_type": "stream",
     "name": "stdout",
     "output_type": "stream",
     "text": [
      "+---+------+--------+------+\n|age|gender|    name|salary|\n+---+------+--------+------+\n| 20|  null|  Manish| 20000|\n| 25|  null|  Nikita| 21000|\n| 16|  null|  Pritam| 22000|\n| 35|  null|Prantosh| 25000|\n| 67|     M|  Vikash| 40000|\n+---+------+--------+------+\n\n"
     ]
    }
   ],
   "source": [
    "# Now what id json have diff fields\n",
    "\n",
    "df_json_ex = spark.read.format(\"json\")\\\n",
    "                    .option(\"inferschema\",\"true\")\\\n",
    "                    .option(\"mode\",\"PERMISSIVE\")\\\n",
    "                    .load(\"/FileStore/tables/json_diff_field.txt\")\n",
    "\n",
    "df_json_ex.show()\n",
    "\n",
    "# create a new coloumn and only put data which has record other null"
   ]
  },
  {
   "cell_type": "code",
   "execution_count": 0,
   "metadata": {
    "application/vnd.databricks.v1+cell": {
     "cellMetadata": {
      "byteLimit": 2048000,
      "rowLimit": 10000
     },
     "inputWidgets": {},
     "nuid": "63fbb826-eebe-4a32-98d7-8b0975a3fe7a",
     "showTitle": false,
     "tableResultSettingsMap": {},
     "title": ""
    }
   },
   "outputs": [
    {
     "output_type": "stream",
     "name": "stdout",
     "output_type": "stream",
     "text": [
      "+---+--------+------+\n|age|    name|salary|\n+---+--------+------+\n| 20|  Manish| 20000|\n| 25|  Nikita| 21000|\n| 16|  Pritam| 22000|\n| 35|Prantosh| 25000|\n| 67|  Vikash| 40000|\n+---+--------+------+\n\n"
     ]
    }
   ],
   "source": [
    "df_json_multi = spark.read.format(\"json\")\\\n",
    "                    .option(\"inferschema\",\"true\")\\\n",
    "                    .option(\"mode\",\"PERMISSIVE\")\\\n",
    "                    .option(\"multiline\",\"true\")\\\n",
    "                    .load(\"/FileStore/tables/multiline_correct.txt\")\n",
    "\n",
    "df_json_multi.show()\n",
    "\n",
    "# we need to add an option multiline true for it to run  in multiline always it will be covered with [] "
   ]
  },
  {
   "cell_type": "code",
   "execution_count": 0,
   "metadata": {
    "application/vnd.databricks.v1+cell": {
     "cellMetadata": {
      "byteLimit": 2048000,
      "rowLimit": 10000
     },
     "inputWidgets": {},
     "nuid": "a3a8d34c-d84f-45a7-8417-b8dead538128",
     "showTitle": false,
     "tableResultSettingsMap": {},
     "title": ""
    }
   },
   "outputs": [
    {
     "output_type": "stream",
     "name": "stdout",
     "output_type": "stream",
     "text": [
      "+--------------------+----+--------+------+\n|     _corrupt_record| age|    name|salary|\n+--------------------+----+--------+------+\n|                null|  20|  Manish| 20000|\n|                null|  25|  Nikita| 21000|\n|                null|  16|  Pritam| 22000|\n|                null|  35|Prantosh| 25000|\n|{\"name\":\"Vikash\",...|null|    null|  null|\n+--------------------+----+--------+------+\n\n"
     ]
    }
   ],
   "source": [
    "# how to detect corrupted records while reading json this happens automatically\n",
    "\n",
    "df_corrupt = spark.read.format(\"json\")\\\n",
    "                    .option(\"inferschema\",\"true\")\\\n",
    "                    .option(\"mode\",\"PERMISSIVE\")\\\n",
    "                    .load(\"/FileStore/tables/corrupt_json.txt\")\n",
    "\n",
    "df_corrupt.show()\n"
   ]
  },
  {
   "cell_type": "code",
   "execution_count": 0,
   "metadata": {
    "application/vnd.databricks.v1+cell": {
     "cellMetadata": {
      "byteLimit": 2048000,
      "rowLimit": 10000
     },
     "inputWidgets": {},
     "nuid": "68c4e854-7b03-4844-8745-86ba02667bd0",
     "showTitle": false,
     "tableResultSettingsMap": {},
     "title": ""
    }
   },
   "outputs": [
    {
     "output_type": "stream",
     "name": "stdout",
     "output_type": "stream",
     "text": [
      "+----+-------+--------------------+-------------+-------------+-------------+------+\n|code|message|         restaurants|results_found|results_shown|results_start|status|\n+----+-------+--------------------+-------------+-------------+-------------+------+\n|null|   null|                  []|            0|            0|            1|  null|\n|null|   null|[{{{17066603}, b9...|         6835|           20|            1|  null|\n|null|   null|                  []|            0|            0|            1|  null|\n|null|   null|                  []|            0|            0|            1|  null|\n|null|   null|[{{{17093124}, b9...|         8680|           20|            1|  null|\n+----+-------+--------------------+-------------+-------------+-------------+------+\nonly showing top 5 rows\n\nroot\n |-- code: long (nullable = true)\n |-- message: string (nullable = true)\n |-- restaurants: array (nullable = true)\n |    |-- element: struct (containsNull = true)\n |    |    |-- restaurant: struct (nullable = true)\n |    |    |    |-- R: struct (nullable = true)\n |    |    |    |    |-- res_id: long (nullable = true)\n |    |    |    |-- apikey: string (nullable = true)\n |    |    |    |-- average_cost_for_two: long (nullable = true)\n |    |    |    |-- cuisines: string (nullable = true)\n |    |    |    |-- currency: string (nullable = true)\n |    |    |    |-- deeplink: string (nullable = true)\n |    |    |    |-- establishment_types: array (nullable = true)\n |    |    |    |    |-- element: string (containsNull = true)\n |    |    |    |-- events_url: string (nullable = true)\n |    |    |    |-- featured_image: string (nullable = true)\n |    |    |    |-- has_online_delivery: long (nullable = true)\n |    |    |    |-- has_table_booking: long (nullable = true)\n |    |    |    |-- id: string (nullable = true)\n |    |    |    |-- is_delivering_now: long (nullable = true)\n |    |    |    |-- location: struct (nullable = true)\n |    |    |    |    |-- address: string (nullable = true)\n |    |    |    |    |-- city: string (nullable = true)\n |    |    |    |    |-- city_id: long (nullable = true)\n |    |    |    |    |-- country_id: long (nullable = true)\n |    |    |    |    |-- latitude: string (nullable = true)\n |    |    |    |    |-- locality: string (nullable = true)\n |    |    |    |    |-- locality_verbose: string (nullable = true)\n |    |    |    |    |-- longitude: string (nullable = true)\n |    |    |    |    |-- zipcode: string (nullable = true)\n |    |    |    |-- menu_url: string (nullable = true)\n |    |    |    |-- name: string (nullable = true)\n |    |    |    |-- offers: array (nullable = true)\n |    |    |    |    |-- element: string (containsNull = true)\n |    |    |    |-- photos_url: string (nullable = true)\n |    |    |    |-- price_range: long (nullable = true)\n |    |    |    |-- switch_to_order_menu: long (nullable = true)\n |    |    |    |-- thumb: string (nullable = true)\n |    |    |    |-- url: string (nullable = true)\n |    |    |    |-- user_rating: struct (nullable = true)\n |    |    |    |    |-- aggregate_rating: string (nullable = true)\n |    |    |    |    |-- rating_color: string (nullable = true)\n |    |    |    |    |-- rating_text: string (nullable = true)\n |    |    |    |    |-- votes: string (nullable = true)\n |-- results_found: long (nullable = true)\n |-- results_shown: long (nullable = true)\n |-- results_start: string (nullable = true)\n |-- status: string (nullable = true)\n\n"
     ]
    }
   ],
   "source": [
    "# How to work with nested json\n",
    "\n",
    "\n",
    "df_nest = spark.read.format(\"json\")\\\n",
    "                    .option(\"inferschema\",\"true\")\\\n",
    "                    .option(\"mode\",\"PERMISSIVE\")\\\n",
    "                    .option(\"multiline\",\"true\")\\\n",
    "                    .load(\"/FileStore/tables/nested_json.json\")\n",
    "\n",
    "df_nest.show(5)\n",
    "df_nest.printSchema()"
   ]
  },
  {
   "cell_type": "code",
   "execution_count": 0,
   "metadata": {
    "application/vnd.databricks.v1+cell": {
     "cellMetadata": {
      "byteLimit": 2048000,
      "rowLimit": 10000
     },
     "inputWidgets": {},
     "nuid": "5cd7b2d9-f4e0-41a8-9aa1-a43ca8368aef",
     "showTitle": false,
     "tableResultSettingsMap": {},
     "title": ""
    }
   },
   "outputs": [],
   "source": [
    "# In the above output you can see the output looks like shit now if we want to make this readable and use it to gather info we need to flatten it and create a proper df \n",
    "\n",
    "# Basically to flat we need to flatten basically two types array type and struct type depending on what you want you have to explode array \n",
    "\n",
    "# array need to be exploded use explode_outer if you have null values in array if used explode only then when null is encountered the whole result will be shown as null\n",
    "\n",
    "# while if struct then use . to traverse inside it and get the data you want and then spark will create a coloum for you when you select \n",
    "\n",
    "from pyspark.sql.functions import *\n",
    "from pyspark.sql.types import *\n",
    "\n",
    "# suppose i want res_id, establishment -> element, name, offer->element code in next block"
   ]
  },
  {
   "cell_type": "code",
   "execution_count": 0,
   "metadata": {
    "application/vnd.databricks.v1+cell": {
     "cellMetadata": {
      "byteLimit": 2048000,
      "rowLimit": 10000
     },
     "inputWidgets": {},
     "nuid": "d29cbb76-3161-4032-b3e9-d8f7b671393c",
     "showTitle": false,
     "tableResultSettingsMap": {},
     "title": ""
    }
   },
   "outputs": [
    {
     "output_type": "stream",
     "name": "stdout",
     "output_type": "stream",
     "text": [
      "root\n |-- res: struct (nullable = true)\n |    |-- restaurant: struct (nullable = true)\n |    |    |-- R: struct (nullable = true)\n |    |    |    |-- res_id: long (nullable = true)\n |    |    |-- apikey: string (nullable = true)\n |    |    |-- average_cost_for_two: long (nullable = true)\n |    |    |-- cuisines: string (nullable = true)\n |    |    |-- currency: string (nullable = true)\n |    |    |-- deeplink: string (nullable = true)\n |    |    |-- establishment_types: array (nullable = true)\n |    |    |    |-- element: string (containsNull = true)\n |    |    |-- events_url: string (nullable = true)\n |    |    |-- featured_image: string (nullable = true)\n |    |    |-- has_online_delivery: long (nullable = true)\n |    |    |-- has_table_booking: long (nullable = true)\n |    |    |-- id: string (nullable = true)\n |    |    |-- is_delivering_now: long (nullable = true)\n |    |    |-- location: struct (nullable = true)\n |    |    |    |-- address: string (nullable = true)\n |    |    |    |-- city: string (nullable = true)\n |    |    |    |-- city_id: long (nullable = true)\n |    |    |    |-- country_id: long (nullable = true)\n |    |    |    |-- latitude: string (nullable = true)\n |    |    |    |-- locality: string (nullable = true)\n |    |    |    |-- locality_verbose: string (nullable = true)\n |    |    |    |-- longitude: string (nullable = true)\n |    |    |    |-- zipcode: string (nullable = true)\n |    |    |-- menu_url: string (nullable = true)\n |    |    |-- name: string (nullable = true)\n |    |    |-- offers: array (nullable = true)\n |    |    |    |-- element: string (containsNull = true)\n |    |    |-- photos_url: string (nullable = true)\n |    |    |-- price_range: long (nullable = true)\n |    |    |-- switch_to_order_menu: long (nullable = true)\n |    |    |-- thumb: string (nullable = true)\n |    |    |-- url: string (nullable = true)\n |    |    |-- user_rating: struct (nullable = true)\n |    |    |    |-- aggregate_rating: string (nullable = true)\n |    |    |    |-- rating_color: string (nullable = true)\n |    |    |    |-- rating_text: string (nullable = true)\n |    |    |    |-- votes: string (nullable = true)\n\n"
     ]
    }
   ],
   "source": [
    "df_temp = df_nest.select(explode(\"restaurants\").alias(\"res\")).printSchema()\n"
   ]
  },
  {
   "cell_type": "code",
   "execution_count": 0,
   "metadata": {
    "application/vnd.databricks.v1+cell": {
     "cellMetadata": {
      "byteLimit": 2048000,
      "rowLimit": 10000
     },
     "inputWidgets": {},
     "nuid": "db512e9f-a3e7-4ff1-8456-8435baffd1f5",
     "showTitle": false,
     "tableResultSettingsMap": {},
     "title": ""
    }
   },
   "outputs": [
    {
     "output_type": "stream",
     "name": "stdout",
     "output_type": "stream",
     "text": [
      "+----------------------------------------------------------------------------------------------------------------------------------------------------------------------------------------------------------------------------------------------------------------------------------------------------------------------------------------------------------------------------------------------------------------------------------------------------------------------------------------------------------------------------------------------------------------------------------------------------------------------------------------------------------------------------------------------------------------------------------------------------------------------------------------------------------------------------------------------------------------------------------------------------------------------------------------------------------------------------------------------------------------------------------------------------------------------------------------------------------------------------------------------------------------------------------------------------------------------------------------------------------------------------------+\n|res                                                                                                                                                                                                                                                                                                                                                                                                                                                                                                                                                                                                                                                                                                                                                                                                                                                                                                                                                                                                                                                                                                                                                                                                                                                                               |\n+----------------------------------------------------------------------------------------------------------------------------------------------------------------------------------------------------------------------------------------------------------------------------------------------------------------------------------------------------------------------------------------------------------------------------------------------------------------------------------------------------------------------------------------------------------------------------------------------------------------------------------------------------------------------------------------------------------------------------------------------------------------------------------------------------------------------------------------------------------------------------------------------------------------------------------------------------------------------------------------------------------------------------------------------------------------------------------------------------------------------------------------------------------------------------------------------------------------------------------------------------------------------------------+\n|{{{17066603}, b90e6a8c738410315a20c449fe2eb1b1, 25, Southern, Cajun, Soul Food, $, zomato://restaurant/17066603, [], https://www.zomato.com/orlando/the-coop-winter-park/events#tabtop?utm_source=api_basic_user&utm_medium=api&utm_campaign=v2.1, https://b.zmtcdn.com/data/pictures/3/17066603/3002ed08cd3035bae040503e26b19f93_featured_v2.jpg, 0, 0, 17066603, 0, {610 W Morse Boulevard, Winter Park, FL 32789, Orlando, 601, 216, 28.5973660000, Winter Park, Winter Park, Orlando, -81.3572190000, 32789}, https://www.zomato.com/orlando/the-coop-winter-park/menu?utm_source=api_basic_user&utm_medium=api&utm_campaign=v2.1&openSwipeBox=menu&showMinimal=1#tabtop, The Coop, [], https://www.zomato.com/orlando/the-coop-winter-park/photos?utm_source=api_basic_user&utm_medium=api&utm_campaign=v2.1#tabtop, 2, 0, https://b.zmtcdn.com/data/pictures/3/17066603/3002ed08cd3035bae040503e26b19f93_featured_v2.jpg, https://www.zomato.com/orlando/the-coop-winter-park?utm_source=api_basic_user&utm_medium=api&utm_campaign=v2.1, {3.6, 9ACD32, Good, 432}}}                                                                                                                                                                                                        |\n|{{{17059541}, b90e6a8c738410315a20c449fe2eb1b1, 50, Italian, $, zomato://restaurant/17059541, [], https://www.zomato.com/orlando/maggianos-little-italy-i-drive-universal/events#tabtop?utm_source=api_basic_user&utm_medium=api&utm_campaign=v2.1, https://b.zmtcdn.com/data/pictures/1/17059541/50ead37fbc2663d80400c56da8502148_featured_v2.jpg, 0, 0, 17059541, 0, {9101 International Drive,Orlando, FL 32819, Orlando, 601, 216, 28.4332350000, I-Drive/Universal, I-Drive/Universal, Orlando, -81.4714470000, 32819}, https://www.zomato.com/orlando/maggianos-little-italy-i-drive-universal/menu?utm_source=api_basic_user&utm_medium=api&utm_campaign=v2.1&openSwipeBox=menu&showMinimal=1#tabtop, Maggiano's Little Italy, [], https://www.zomato.com/orlando/maggianos-little-italy-i-drive-universal/photos?utm_source=api_basic_user&utm_medium=api&utm_campaign=v2.1#tabtop, 4, 0, https://b.zmtcdn.com/data/pictures/1/17059541/50ead37fbc2663d80400c56da8502148_featured_v2.jpg, https://www.zomato.com/orlando/maggianos-little-italy-i-drive-universal?utm_source=api_basic_user&utm_medium=api&utm_campaign=v2.1, {4.4, 5BA829, Very Good, 886}}}                                                                                                             |\n|{{{17064405}, b90e6a8c738410315a20c449fe2eb1b1, 10, Asian, Latin American, Vegetarian, $, zomato://restaurant/17064405, [], https://www.zomato.com/orlando/tako-cheena-by-pom-pom-orlando/events#tabtop?utm_source=api_basic_user&utm_medium=api&utm_campaign=v2.1, https://b.zmtcdn.com/data/pictures/5/17064405/d9046cbf96ed14c27ccb43d67b2d9e14_featured_v2.jpg, 0, 0, 17064405, 0, {932 North Mills Avenue, Orlando, FL 32803, Orlando, 601, 216, 28.5578450000, Mills 50, Mills 50, Orlando, -81.3645470000, 32803}, https://www.zomato.com/orlando/tako-cheena-by-pom-pom-orlando/menu?utm_source=api_basic_user&utm_medium=api&utm_campaign=v2.1&openSwipeBox=menu&showMinimal=1#tabtop, Tako Cheena by Pom Pom, [], https://www.zomato.com/orlando/tako-cheena-by-pom-pom-orlando/photos?utm_source=api_basic_user&utm_medium=api&utm_campaign=v2.1#tabtop, 1, 0, https://b.zmtcdn.com/data/pictures/5/17064405/d9046cbf96ed14c27ccb43d67b2d9e14_featured_v2.jpg, https://www.zomato.com/orlando/tako-cheena-by-pom-pom-orlando?utm_source=api_basic_user&utm_medium=api&utm_campaign=v2.1, {4.4, 5BA829, Very Good, 570}}}                                                                                                                                               |\n|{{{17057797}, b90e6a8c738410315a20c449fe2eb1b1, 40, Mediterranean, Turkish, $, zomato://restaurant/17057797, [], https://www.zomato.com/orlando/bosphorous-turkish-cuisine-winter-park/events#tabtop?utm_source=api_basic_user&utm_medium=api&utm_campaign=v2.1, https://b.zmtcdn.com/data/pictures/7/17057797/6504549ba9a80220f1d891b4fc0f0e72_featured_v2.jpg, 0, 0, 17057797, 0, {108 S Park Ave, Winter Park, FL 32789, Orlando, 601, 216, 28.5976271000, Winter Park, Winter Park, Orlando, -81.3508344000, 32789}, https://www.zomato.com/orlando/bosphorous-turkish-cuisine-winter-park/menu?utm_source=api_basic_user&utm_medium=api&utm_campaign=v2.1&openSwipeBox=menu&showMinimal=1#tabtop, Bosphorous Turkish Cuisine, [], https://www.zomato.com/orlando/bosphorous-turkish-cuisine-winter-park/photos?utm_source=api_basic_user&utm_medium=api&utm_campaign=v2.1#tabtop, 3, 0, https://b.zmtcdn.com/data/pictures/7/17057797/6504549ba9a80220f1d891b4fc0f0e72_featured_v2.jpg, https://www.zomato.com/orlando/bosphorous-turkish-cuisine-winter-park?utm_source=api_basic_user&utm_medium=api&utm_campaign=v2.1, {4.2, 5BA829, Very Good, 568}}}                                                                                                                    |\n|{{{17057591}, b90e6a8c738410315a20c449fe2eb1b1, 45, Caribbean, $, zomato://restaurant/17057591, [], https://www.zomato.com/orlando/bahama-breeze-island-grille-1-orlando/events#tabtop?utm_source=api_basic_user&utm_medium=api&utm_campaign=v2.1, https://b.zmtcdn.com/data/pictures/1/17057591/376e721c13fcd49348add84717eab67e_featured_v2.jpg, 0, 0, 17057591, 0, {8849 International Drive, Orlando, FL 32819, Orlando, 601, 216, 28.4370650000, I-Drive/Universal, I-Drive/Universal, Orlando, -81.4715260000, 32819}, https://www.zomato.com/orlando/bahama-breeze-island-grille-1-orlando/menu?utm_source=api_basic_user&utm_medium=api&utm_campaign=v2.1&openSwipeBox=menu&showMinimal=1#tabtop, Bahama Breeze Island Grille, [], https://www.zomato.com/orlando/bahama-breeze-island-grille-1-orlando/photos?utm_source=api_basic_user&utm_medium=api&utm_campaign=v2.1#tabtop, 3, 0, https://b.zmtcdn.com/data/pictures/1/17057591/376e721c13fcd49348add84717eab67e_featured_v2.jpg, https://www.zomato.com/orlando/bahama-breeze-island-grille-1-orlando?utm_source=api_basic_user&utm_medium=api&utm_campaign=v2.1, {4.3, 5BA829, Very Good, 910}}}                                                                                                                  |\n|{{{17064266}, b90e6a8c738410315a20c449fe2eb1b1, 35, Asian, Thai, $, zomato://restaurant/17064266, [], https://www.zomato.com/orlando/hawkers-asian-street-fare-mills-50/events#tabtop?utm_source=api_basic_user&utm_medium=api&utm_campaign=v2.1, https://b.zmtcdn.com/data/pictures/6/17064266/76b69fcbffb0870221b7f7232b03166f_featured_v2.jpg, 0, 0, 17064266, 0, {1103 N Mills Avenue, Orlando, FL 32803, Orlando, 601, 216, 28.5605050000, Mills 50, Mills 50, Orlando, -81.3643470000, 32803}, https://www.zomato.com/orlando/hawkers-asian-street-fare-mills-50/menu?utm_source=api_basic_user&utm_medium=api&utm_campaign=v2.1&openSwipeBox=menu&showMinimal=1#tabtop, Hawkers Asian Street Fare, [], https://www.zomato.com/orlando/hawkers-asian-street-fare-mills-50/photos?utm_source=api_basic_user&utm_medium=api&utm_campaign=v2.1#tabtop, 3, 0, https://b.zmtcdn.com/data/pictures/6/17064266/76b69fcbffb0870221b7f7232b03166f_featured_v2.jpg, https://www.zomato.com/orlando/hawkers-asian-street-fare-mills-50?utm_source=api_basic_user&utm_medium=api&utm_campaign=v2.1, {4.6, 3F7E00, Excellent, 1293}}}                                                                                                                                                    |\n|{{{17060516}, b90e6a8c738410315a20c449fe2eb1b1, 60, American, $, zomato://restaurant/17060516, [], https://www.zomato.com/orlando/seasons-52-fresh-grill-orlando/events#tabtop?utm_source=api_basic_user&utm_medium=api&utm_campaign=v2.1, https://b.zmtcdn.com/data/pictures/6/17060516/411c1bba0a117703e6e5f80f6752563c_featured_v2.jpg, 0, 0, 17060516, 0, {7700 West Sand Lake Road, Orlando, FL 32819, Orlando, 601, 216, 28.4481750000, Restaurant Row, Restaurant Row, Orlando, -81.4879780000, 32819}, https://www.zomato.com/orlando/seasons-52-fresh-grill-orlando/menu?utm_source=api_basic_user&utm_medium=api&utm_campaign=v2.1&openSwipeBox=menu&showMinimal=1#tabtop, Seasons 52 Fresh Grill, [], https://www.zomato.com/orlando/seasons-52-fresh-grill-orlando/photos?utm_source=api_basic_user&utm_medium=api&utm_campaign=v2.1#tabtop, 4, 0, https://b.zmtcdn.com/data/pictures/6/17060516/411c1bba0a117703e6e5f80f6752563c_featured_v2.jpg, https://www.zomato.com/orlando/seasons-52-fresh-grill-orlando?utm_source=api_basic_user&utm_medium=api&utm_campaign=v2.1, {4.4, 5BA829, Very Good, 1685}}}                                                                                                                                                         |\n|{{{17060320}, b90e6a8c738410315a20c449fe2eb1b1, 50, Irish, $, zomato://restaurant/17060320, [], https://www.zomato.com/orlando/raglan-road-irish-pub-and-restaurant-disney-downtown-disney/events#tabtop?utm_source=api_basic_user&utm_medium=api&utm_campaign=v2.1, https://b.zmtcdn.com/data/pictures/0/17060320/ebfbbadf30dca1531c050e947739d603_featured_v2.jpg, 0, 0, 17060320, 0, {1640 E Buena Vista Drive, Lake Buena Vista, FL 32830, Orlando, 601, 216, 28.3713380000, Disney: Downtown Disney, Disney: Downtown Disney, Orlando, -81.5177250000, 32830}, https://www.zomato.com/orlando/raglan-road-irish-pub-and-restaurant-disney-downtown-disney/menu?utm_source=api_basic_user&utm_medium=api&utm_campaign=v2.1&openSwipeBox=menu&showMinimal=1#tabtop, Raglan Road Irish Pub and Restaurant, [], https://www.zomato.com/orlando/raglan-road-irish-pub-and-restaurant-disney-downtown-disney/photos?utm_source=api_basic_user&utm_medium=api&utm_campaign=v2.1#tabtop, 4, 0, https://b.zmtcdn.com/data/pictures/0/17060320/ebfbbadf30dca1531c050e947739d603_featured_v2.jpg, https://www.zomato.com/orlando/raglan-road-irish-pub-and-restaurant-disney-downtown-disney?utm_source=api_basic_user&utm_medium=api&utm_campaign=v2.1, {4.3, 5BA829, Very Good, 782}}}|\n|{{{17059060}, b90e6a8c738410315a20c449fe2eb1b1, 40, , $, zomato://restaurant/17059060, [], https://www.zomato.com/orlando/hillstone-winter-park/events#tabtop?utm_source=api_basic_user&utm_medium=api&utm_campaign=v2.1, https://b.zmtcdn.com/data/pictures/0/17059060/b0af51eb778682ea5c721f1b21c2a090_featured_v2.jpg, 0, 0, 17059060, 0, {215 South Orlando Avenue, Winter Park, FL 32789, Orlando, 601, 216, 28.5966820000, Winter Park, Winter Park, Orlando, -81.3652600000, 32789}, https://www.zomato.com/orlando/hillstone-winter-park/menu?utm_source=api_basic_user&utm_medium=api&utm_campaign=v2.1&openSwipeBox=menu&showMinimal=1#tabtop, Hillstone, [], https://www.zomato.com/orlando/hillstone-winter-park/photos?utm_source=api_basic_user&utm_medium=api&utm_campaign=v2.1#tabtop, 3, 0, https://b.zmtcdn.com/data/pictures/0/17059060/b0af51eb778682ea5c721f1b21c2a090_featured_v2.jpg, https://www.zomato.com/orlando/hillstone-winter-park?utm_source=api_basic_user&utm_medium=api&utm_campaign=v2.1, {4.4, 5BA829, Very Good, 1158}}}                                                                                                                                                                                                                    |\n|{{{17059012}, b90e6a8c738410315a20c449fe2eb1b1, 40, German, $, zomato://restaurant/17059012, [], https://www.zomato.com/orlando/hollerbachs-willow-tree-café-sanford/events#tabtop?utm_source=api_basic_user&utm_medium=api&utm_campaign=v2.1, https://b.zmtcdn.com/data/pictures/2/17059012/0f6a19850329458778d121d6201a3eb1_featured_v2.jpg, 0, 0, 17059012, 0, {205 East 1st Street, Sanford, FL 32771, Orlando, 601, 216, 28.8116530000, Sanford, Sanford, Orlando, -81.2668710000, 32771}, https://www.zomato.com/orlando/hollerbachs-willow-tree-café-sanford/menu?utm_source=api_basic_user&utm_medium=api&utm_campaign=v2.1&openSwipeBox=menu&showMinimal=1#tabtop, Hollerbach's Willow Tree Café, [], https://www.zomato.com/orlando/hollerbachs-willow-tree-café-sanford/photos?utm_source=api_basic_user&utm_medium=api&utm_campaign=v2.1#tabtop, 3, 0, https://b.zmtcdn.com/data/pictures/2/17059012/0f6a19850329458778d121d6201a3eb1_featured_v2.jpg, https://www.zomato.com/orlando/hollerbachs-willow-tree-café-sanford?utm_source=api_basic_user&utm_medium=api&utm_campaign=v2.1, {4.8, 3F7E00, Excellent, 1699}}}                                                                                                                                               |\n|{{{17060869}, b90e6a8c738410315a20c449fe2eb1b1, 100, Brazilian, Steak, $, zomato://restaurant/17060869, [], https://www.zomato.com/orlando/texas-de-brazil-i-drive-universal/events#tabtop?utm_source=api_basic_user&utm_medium=api&utm_campaign=v2.1, https://b.zmtcdn.com/data/pictures/9/17060869/b61f8fe7abc9fca9b5ea32accb3d12b5_featured_v2.jpg, 0, 0, 17060869, 0, {5259 International Drive, Orlando, FL 32819, Orlando, 601, 216, 28.4676808000, I-Drive/Universal, I-Drive/Universal, Orlando, -81.4510725000, 32819}, https://www.zomato.com/orlando/texas-de-brazil-i-drive-universal/menu?utm_source=api_basic_user&utm_medium=api&utm_campaign=v2.1&openSwipeBox=menu&showMinimal=1#tabtop, Texas de Brazil, [], https://www.zomato.com/orlando/texas-de-brazil-i-drive-universal/photos?utm_source=api_basic_user&utm_medium=api&utm_campaign=v2.1#tabtop, 4, 0, https://b.zmtcdn.com/data/pictures/9/17060869/b61f8fe7abc9fca9b5ea32accb3d12b5_featured_v2.jpg, https://www.zomato.com/orlando/texas-de-brazil-i-drive-universal?utm_source=api_basic_user&utm_medium=api&utm_campaign=v2.1, {4.6, 3F7E00, Excellent, 2324}}}                                                                                                                                     |\n|{{{17061231}, b90e6a8c738410315a20c449fe2eb1b1, 40, Pub Food, $, zomato://restaurant/17061231, [], https://www.zomato.com/orlando/the-ravenous-pig-winter-park/events#tabtop?utm_source=api_basic_user&utm_medium=api&utm_campaign=v2.1, https://b.zmtcdn.com/data/pictures/1/17061231/05f9f181364ecc7dabaf60d38e357a2a_featured_v2.jpg, 0, 0, 17061231, 0, {565 W Fairbanks Avenue, Winter Park, FL 32789, Orlando, 601, 216, 28.5932970000, Winter Park, Winter Park, Orlando, -81.3560240000, 32789}, https://www.zomato.com/orlando/the-ravenous-pig-winter-park/menu?utm_source=api_basic_user&utm_medium=api&utm_campaign=v2.1&openSwipeBox=menu&showMinimal=1#tabtop, The Ravenous Pig, [], https://www.zomato.com/orlando/the-ravenous-pig-winter-park/photos?utm_source=api_basic_user&utm_medium=api&utm_campaign=v2.1#tabtop, 3, 0, https://b.zmtcdn.com/data/pictures/1/17061231/05f9f181364ecc7dabaf60d38e357a2a_featured_v2.jpg, https://www.zomato.com/orlando/the-ravenous-pig-winter-park?utm_source=api_basic_user&utm_medium=api&utm_campaign=v2.1, {4.4, 5BA829, Very Good, 1998}}}                                                                                                                                                                           |\n|{{{17058534}, b90e6a8c738410315a20c449fe2eb1b1, 35, American, Sandwich, Salad, $, zomato://restaurant/17058534, [], https://www.zomato.com/orlando/earl-of-sandwich-disney-downtown-disney/events#tabtop?utm_source=api_basic_user&utm_medium=api&utm_campaign=v2.1, https://b.zmtcdn.com/data/pictures/4/17058534/5f583655ea7d74aa7b66b288b2a6e492_featured_v2.jpg, 0, 0, 17058534, 0, {1750 E Buena Vista Drive, Lake Buena Vista, FL 32830, Orlando, 601, 216, 28.3728580000, Disney: Downtown Disney, Disney: Downtown Disney, Orlando, -81.5146080000, 32830}, https://www.zomato.com/orlando/earl-of-sandwich-disney-downtown-disney/menu?utm_source=api_basic_user&utm_medium=api&utm_campaign=v2.1&openSwipeBox=menu&showMinimal=1#tabtop, Earl of Sandwich, [], https://www.zomato.com/orlando/earl-of-sandwich-disney-downtown-disney/photos?utm_source=api_basic_user&utm_medium=api&utm_campaign=v2.1#tabtop, 3, 0, https://b.zmtcdn.com/data/pictures/4/17058534/5f583655ea7d74aa7b66b288b2a6e492_featured_v2.jpg, https://www.zomato.com/orlando/earl-of-sandwich-disney-downtown-disney?utm_source=api_basic_user&utm_medium=api&utm_campaign=v2.1, {4.7, 3F7E00, Excellent, 1341}}}                                                                               |\n|{{{17057925}, b90e6a8c738410315a20c449fe2eb1b1, 40, New American, Tapas, $, zomato://restaurant/17057925, [], https://www.zomato.com/orlando/café-tu-tu-tango-orlando/events#tabtop?utm_source=api_basic_user&utm_medium=api&utm_campaign=v2.1, https://b.zmtcdn.com/data/pictures/5/17057925/4ce421a5fd7c1d8b1126bdf5a85356a5_featured_v2.jpg, 0, 0, 17057925, 0, {8625 International Drive, Orlando, FL 32819, Orlando, 601, 216, 28.4403440000, I-Drive/Universal, I-Drive/Universal, Orlando, -81.4699860000, 32819}, https://www.zomato.com/orlando/café-tu-tu-tango-orlando/menu?utm_source=api_basic_user&utm_medium=api&utm_campaign=v2.1&openSwipeBox=menu&showMinimal=1#tabtop, Café Tu Tu Tango, [], https://www.zomato.com/orlando/café-tu-tu-tango-orlando/photos?utm_source=api_basic_user&utm_medium=api&utm_campaign=v2.1#tabtop, 3, 0, https://b.zmtcdn.com/data/pictures/5/17057925/4ce421a5fd7c1d8b1126bdf5a85356a5_featured_v2.jpg, https://www.zomato.com/orlando/café-tu-tu-tango-orlando?utm_source=api_basic_user&utm_medium=api&utm_campaign=v2.1, {4.6, 3F7E00, Excellent, 1293}}}                                                                                                                                                                      |\n|{{{17064031}, b90e6a8c738410315a20c449fe2eb1b1, 25, Cajun, $, zomato://restaurant/17064031, [], https://www.zomato.com/orlando/tibbys-new-orleans-kitchen-winter-park/events#tabtop?utm_source=api_basic_user&utm_medium=api&utm_campaign=v2.1, https://b.zmtcdn.com/data/pictures/1/17064031/92f280390a1e0f2edc00459e658f4c8e_featured_v2.jpg, 0, 0, 17064031, 0, {2203 Aloma Avenue, Winter Park, FL 32792, Orlando, 601, 216, 28.6010880000, Winter Park, Winter Park, Orlando, -81.3226310000, 32792}, https://www.zomato.com/orlando/tibbys-new-orleans-kitchen-winter-park/menu?utm_source=api_basic_user&utm_medium=api&utm_campaign=v2.1&openSwipeBox=menu&showMinimal=1#tabtop, Tibby's New Orleans Kitchen, [], https://www.zomato.com/orlando/tibbys-new-orleans-kitchen-winter-park/photos?utm_source=api_basic_user&utm_medium=api&utm_campaign=v2.1#tabtop, 2, 0, https://b.zmtcdn.com/data/pictures/1/17064031/92f280390a1e0f2edc00459e658f4c8e_featured_v2.jpg, https://www.zomato.com/orlando/tibbys-new-orleans-kitchen-winter-park?utm_source=api_basic_user&utm_medium=api&utm_campaign=v2.1, {4.7, 3F7E00, Excellent, 1412}}}                                                                                                                                |\n|{{{17061237}, b90e6a8c738410315a20c449fe2eb1b1, 40, Spanish, Tapas, $, zomato://restaurant/17061237, [], https://www.zomato.com/orlando/cevíche-tapas-bar-restaurant-orlando/events#tabtop?utm_source=api_basic_user&utm_medium=api&utm_campaign=v2.1, , 0, 0, 17061237, 0, {125 West Church Street, Orlando, FL 32801, Orlando, 601, 216, 28.5404320000, Church Street District, Church Street District, Orlando, -81.3810770000, 32801}, https://www.zomato.com/orlando/cevíche-tapas-bar-restaurant-orlando/menu?utm_source=api_basic_user&utm_medium=api&utm_campaign=v2.1&openSwipeBox=menu&showMinimal=1#tabtop, Cevíche Tapas Bar & Restaurant, [], https://www.zomato.com/orlando/cevíche-tapas-bar-restaurant-orlando/photos?utm_source=api_basic_user&utm_medium=api&utm_campaign=v2.1#tabtop, 3, 0, , https://www.zomato.com/orlando/cevíche-tapas-bar-restaurant-orlando?utm_source=api_basic_user&utm_medium=api&utm_campaign=v2.1, {4.4, 5BA829, Very Good, 981}}}                                                                                                                                                                                                                                                                                                  |\n|{{{17061253}, b90e6a8c738410315a20c449fe2eb1b1, 25, American, Breakfast, Vegetarian, $, zomato://restaurant/17061253, [], https://www.zomato.com/orlando/ethos-vegan-kitchen-winter-park/events#tabtop?utm_source=api_basic_user&utm_medium=api&utm_campaign=v2.1, https://b.zmtcdn.com/data/pictures/3/17061253/037dcf8accff6de2307d72a82444b465_featured_v2.jpg, 0, 0, 17061253, 0, {601-B South New York Avenue, Winter Park, FL 32789, Orlando, 601, 216, 28.5928570000, Winter Park, Winter Park, Orlando, -81.3529210000, 32789}, https://www.zomato.com/orlando/ethos-vegan-kitchen-winter-park/menu?utm_source=api_basic_user&utm_medium=api&utm_campaign=v2.1&openSwipeBox=menu&showMinimal=1#tabtop, Ethos Vegan Kitchen, [], https://www.zomato.com/orlando/ethos-vegan-kitchen-winter-park/photos?utm_source=api_basic_user&utm_medium=api&utm_campaign=v2.1#tabtop, 2, 0, https://b.zmtcdn.com/data/pictures/3/17061253/037dcf8accff6de2307d72a82444b465_featured_v2.jpg, https://www.zomato.com/orlando/ethos-vegan-kitchen-winter-park?utm_source=api_basic_user&utm_medium=api&utm_campaign=v2.1, {4.4, 5BA829, Very Good, 797}}}                                                                                                                                 |\n|{{{17061296}, b90e6a8c738410315a20c449fe2eb1b1, 25, American, Sandwich, Tea, $, zomato://restaurant/17061296, [], https://www.zomato.com/orlando/pom-poms-teahouse-and-sandwicheria-orlando/events#tabtop?utm_source=api_basic_user&utm_medium=api&utm_campaign=v2.1, https://b.zmtcdn.com/data/pictures/6/17061296/062fe0459e4e93bfed0e531995a69e67_featured_v2.jpg, 0, 0, 17061296, 0, {67 North Bumby Avenue, Orlando, FL 32803, Orlando, 601, 216, 28.5435710000, The Milk District, The Milk District, Orlando, -81.3514670000, 32803}, https://www.zomato.com/orlando/pom-poms-teahouse-and-sandwicheria-orlando/menu?utm_source=api_basic_user&utm_medium=api&utm_campaign=v2.1&openSwipeBox=menu&showMinimal=1#tabtop, Pom Pom's Teahouse and Sandwicheria, [], https://www.zomato.com/orlando/pom-poms-teahouse-and-sandwicheria-orlando/photos?utm_source=api_basic_user&utm_medium=api&utm_campaign=v2.1#tabtop, 2, 0, https://b.zmtcdn.com/data/pictures/6/17061296/062fe0459e4e93bfed0e531995a69e67_featured_v2.jpg, https://www.zomato.com/orlando/pom-poms-teahouse-and-sandwicheria-orlando?utm_source=api_basic_user&utm_medium=api&utm_campaign=v2.1, {4.9, 3F7E00, Excellent, 1457}}}                                                                          |\n|{{{17061205}, b90e6a8c738410315a20c449fe2eb1b1, 35, American, BBQ, Sandwich, $, zomato://restaurant/17061205, [], https://www.zomato.com/orlando/yellow-dog-eats-windermere/events#tabtop?utm_source=api_basic_user&utm_medium=api&utm_campaign=v2.1, https://b.zmtcdn.com/data/pictures/5/17061205/c35c5b58d15d0956839a2220c6b59eee_featured_v2.jpg, 0, 0, 17061205, 0, {1236 Hempel Avenue,Gotha, FL 34786, Orlando, 601, 216, 28.5275920000, Windermere, Windermere, Orlando, -81.5229870000, 34786}, https://www.zomato.com/orlando/yellow-dog-eats-windermere/menu?utm_source=api_basic_user&utm_medium=api&utm_campaign=v2.1&openSwipeBox=menu&showMinimal=1#tabtop, Yellow Dog Eats, [], https://www.zomato.com/orlando/yellow-dog-eats-windermere/photos?utm_source=api_basic_user&utm_medium=api&utm_campaign=v2.1#tabtop, 3, 0, https://b.zmtcdn.com/data/pictures/5/17061205/c35c5b58d15d0956839a2220c6b59eee_featured_v2.jpg, https://www.zomato.com/orlando/yellow-dog-eats-windermere?utm_source=api_basic_user&utm_medium=api&utm_campaign=v2.1, {4.9, 3F7E00, Excellent, 1252}}}                                                                                                                                                                                  |\n|{{{17057397}, b90e6a8c738410315a20c449fe2eb1b1, 45, Hawaiian, $, zomato://restaurant/17057397, [], https://www.zomato.com/orlando/ohana-disney-world-area/events#tabtop?utm_source=api_basic_user&utm_medium=api&utm_campaign=v2.1, https://b.zmtcdn.com/data/pictures/7/17057397/1e5994e28b4dc97ee1e024c0b45d7245_featured_v2.jpg, 0, 0, 17057397, 0, {1600 Seven Seas Drive, Lake Buena Vista, FL 32830, Orlando, 601, 216, 28.4054370000, Disney World Area, Disney World Area, Orlando, -81.5852260000, 32830}, https://www.zomato.com/orlando/ohana-disney-world-area/menu?utm_source=api_basic_user&utm_medium=api&utm_campaign=v2.1&openSwipeBox=menu&showMinimal=1#tabtop, 'Ohana, [], https://www.zomato.com/orlando/ohana-disney-world-area/photos?utm_source=api_basic_user&utm_medium=api&utm_campaign=v2.1#tabtop, 3, 0, https://b.zmtcdn.com/data/pictures/7/17057397/1e5994e28b4dc97ee1e024c0b45d7245_featured_v2.jpg, https://www.zomato.com/orlando/ohana-disney-world-area?utm_source=api_basic_user&utm_medium=api&utm_campaign=v2.1, {4.5, 3F7E00, Excellent, 1151}}}                                                                                                                                                                                         |\n+----------------------------------------------------------------------------------------------------------------------------------------------------------------------------------------------------------------------------------------------------------------------------------------------------------------------------------------------------------------------------------------------------------------------------------------------------------------------------------------------------------------------------------------------------------------------------------------------------------------------------------------------------------------------------------------------------------------------------------------------------------------------------------------------------------------------------------------------------------------------------------------------------------------------------------------------------------------------------------------------------------------------------------------------------------------------------------------------------------------------------------------------------------------------------------------------------------------------------------------------------------------------------------+\nonly showing top 20 rows\n\n"
     ]
    }
   ],
   "source": [
    "df_temp = df_nest.select(explode(\"restaurants\").alias(\"res\"))\n",
    "\n",
    "df_temp.show(truncate = False)"
   ]
  },
  {
   "cell_type": "code",
   "execution_count": 0,
   "metadata": {
    "application/vnd.databricks.v1+cell": {
     "cellMetadata": {
      "byteLimit": 2048000,
      "rowLimit": 10000
     },
     "inputWidgets": {},
     "nuid": "37975195-5cf7-4704-bd76-db1933aae051",
     "showTitle": false,
     "tableResultSettingsMap": {},
     "title": ""
    }
   },
   "outputs": [
    {
     "output_type": "stream",
     "name": "stdout",
     "output_type": "stream",
     "text": [
      "root\n |-- res: struct (nullable = true)\n |    |-- restaurant: struct (nullable = true)\n |    |    |-- R: struct (nullable = true)\n |    |    |    |-- res_id: long (nullable = true)\n |    |    |-- apikey: string (nullable = true)\n |    |    |-- average_cost_for_two: long (nullable = true)\n |    |    |-- cuisines: string (nullable = true)\n |    |    |-- currency: string (nullable = true)\n |    |    |-- deeplink: string (nullable = true)\n |    |    |-- establishment_types: array (nullable = true)\n |    |    |    |-- element: string (containsNull = true)\n |    |    |-- events_url: string (nullable = true)\n |    |    |-- featured_image: string (nullable = true)\n |    |    |-- has_online_delivery: long (nullable = true)\n |    |    |-- has_table_booking: long (nullable = true)\n |    |    |-- id: string (nullable = true)\n |    |    |-- is_delivering_now: long (nullable = true)\n |    |    |-- location: struct (nullable = true)\n |    |    |    |-- address: string (nullable = true)\n |    |    |    |-- city: string (nullable = true)\n |    |    |    |-- city_id: long (nullable = true)\n |    |    |    |-- country_id: long (nullable = true)\n |    |    |    |-- latitude: string (nullable = true)\n |    |    |    |-- locality: string (nullable = true)\n |    |    |    |-- locality_verbose: string (nullable = true)\n |    |    |    |-- longitude: string (nullable = true)\n |    |    |    |-- zipcode: string (nullable = true)\n |    |    |-- menu_url: string (nullable = true)\n |    |    |-- name: string (nullable = true)\n |    |    |-- offers: array (nullable = true)\n |    |    |    |-- element: string (containsNull = true)\n |    |    |-- photos_url: string (nullable = true)\n |    |    |-- price_range: long (nullable = true)\n |    |    |-- switch_to_order_menu: long (nullable = true)\n |    |    |-- thumb: string (nullable = true)\n |    |    |-- url: string (nullable = true)\n |    |    |-- user_rating: struct (nullable = true)\n |    |    |    |-- aggregate_rating: string (nullable = true)\n |    |    |    |-- rating_color: string (nullable = true)\n |    |    |    |-- rating_text: string (nullable = true)\n |    |    |    |-- votes: string (nullable = true)\n |-- establishment_element: string (nullable = true)\n\n"
     ]
    }
   ],
   "source": [
    "df_temp = df_temp.select(\"*\",explode(\"res.restaurant.establishment_types\").alias(\"establishment_element\")).printSchema()\n",
    "\n",
    "# using this as referrence next block will be creating my logic using this schema as reference "
   ]
  },
  {
   "cell_type": "code",
   "execution_count": 0,
   "metadata": {
    "application/vnd.databricks.v1+cell": {
     "cellMetadata": {
      "byteLimit": 2048000,
      "rowLimit": 10000
     },
     "inputWidgets": {},
     "nuid": "685f5095-7e77-417a-9b91-a867f4af30b9",
     "showTitle": false,
     "tableResultSettingsMap": {},
     "title": ""
    }
   },
   "outputs": [
    {
     "output_type": "stream",
     "name": "stdout",
     "output_type": "stream",
     "text": [
      "+--------+--------------------+---------------------+-------------+\n|  res_id|                name|establishment_element|offer_element|\n+--------+--------------------+---------------------+-------------+\n|17066603|            The Coop|                 null|         null|\n|17059541|Maggiano's Little...|                 null|         null|\n|17064405|Tako Cheena by Po...|                 null|         null|\n|17057797|Bosphorous Turkis...|                 null|         null|\n|17057591|Bahama Breeze Isl...|                 null|         null|\n|17064266|Hawkers Asian Str...|                 null|         null|\n|17060516|Seasons 52 Fresh ...|                 null|         null|\n|17060320|Raglan Road Irish...|                 null|         null|\n|17059060|           Hillstone|                 null|         null|\n|17059012|Hollerbach's Will...|                 null|         null|\n|17060869|     Texas de Brazil|                 null|         null|\n|17061231|    The Ravenous Pig|                 null|         null|\n|17058534|    Earl of Sandwich|                 null|         null|\n|17057925|    Café Tu Tu Tango|                 null|         null|\n|17064031|Tibby's New Orlea...|                 null|         null|\n|17061237|Cevíche Tapas Bar...|                 null|         null|\n|17061253| Ethos Vegan Kitchen|                 null|         null|\n|17061296|Pom Pom's Teahous...|                 null|         null|\n|17061205|     Yellow Dog Eats|                 null|         null|\n|17057397|              'Ohana|                 null|         null|\n+--------+--------------------+---------------------+-------------+\nonly showing top 20 rows\n\n"
     ]
    }
   ],
   "source": [
    "# since got error cant use explode twice we will do this \n",
    "df_temp = df_temp.select(\"*\",explode_outer(\"res.restaurant.establishment_types\").alias(\"establishment_element\"))\\\n",
    "                .select(\"*\",explode_outer(\"res.restaurant.offers\").alias(\"offer_element\"))\\\n",
    "                .select(\"res.restaurant.R.res_id\",\"res.restaurant.name\",\"establishment_element\",\"offer_element\")\n",
    "\n",
    "\n",
    "df_temp.show()\n",
    "\n",
    "\n",
    "# We use explode outer because while using explode if we get null values in that array it will show you nothing because of which whole dataset will become blank explode outer will solve that issue \n",
    "\n",
    "# This is how you can tranverse or use nested json and create a clean data frame according to your needs"
   ]
  }
 ],
 "metadata": {
  "application/vnd.databricks.v1+notebook": {
   "computePreferences": null,
   "dashboards": [],
   "environmentMetadata": {
    "base_environment": "",
    "environment_version": "1"
   },
   "inputWidgetPreferences": null,
   "language": "python",
   "notebookMetadata": {
    "pythonIndentUnit": 4
   },
   "notebookName": "spark_3(Json)",
   "widgets": {}
  }
 },
 "nbformat": 4,
 "nbformat_minor": 0
}
